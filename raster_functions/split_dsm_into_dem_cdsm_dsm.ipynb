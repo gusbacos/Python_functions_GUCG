{
 "cells": [
  {
   "cell_type": "code",
   "execution_count": 1,
   "metadata": {},
   "outputs": [],
   "source": [
    "from osgeo import gdal\n",
    "from qgis.core import QgsApplication, QgsCoordinateReferenceSystem\n",
    "import numpy as np\n",
    "import sys, os\n",
    "import matplotlib.pyplot as plt\n",
    "\n",
    "# Initiating a QGIS application and connect to processing\n",
    "qgishome = 'C:/OSGeo4W/apps/qgis/'\n",
    "QgsApplication.setPrefixPath(qgishome, True)\n",
    "app = QgsApplication([], False)\n",
    "\n",
    "app.initQgis()\n",
    "\n",
    "windowsuser = 'xbacos'\n",
    "sys.path.append('C:/OSGeo4W/apps/qgis/python/plugins')\n",
    "sys.path.append('C:/Users/' + windowsuser + '/AppData/Roaming/QGIS/QGIS3/profiles/default/python/plugins') # path to third party plugins\n",
    "sys.path.append('C:/FUSION')\n",
    "\n",
    "import processing\n",
    "from processing.core.Processing import Processing\n",
    "Processing.initialize()"
   ]
  },
  {
   "cell_type": "code",
   "execution_count": 2,
   "metadata": {},
   "outputs": [],
   "source": [
    "# Uppdatera till dina filer\n",
    "indir = 'C:/temp/dsms/'\n",
    "outdir = indir + 'out/'\n",
    "dsm_in = indir + 'DSM_flagstaff_reproj.tif'\n",
    "\n",
    "dsm = outdir + 'dsm.tif'\n",
    "dem = outdir + 'dem.tif'\n",
    "cdsm = outdir + 'cdsm.tif'\n",
    "lc = outdir + 'lc.tif'\n",
    "building = indir +  'buildings_reproj.shp'\n",
    "trees =  indir + 'trees_flagstaff_reproj.shp'\n",
    "\n",
    "crs_in = 'ESPG:32755'            # Uppdatera till ditt koordinatsysyem\n",
    "crs = 'ESPG:32755'               # Uppdatera till ditt koordinatsystem\n",
    "\n",
    "output = {}"
   ]
  },
  {
   "cell_type": "code",
   "execution_count": 10,
   "metadata": {},
   "outputs": [],
   "source": [
    "# Skapa nya rasters, reproject och gör om till 1m\n",
    "for i in [dem, dsm, cdsm, lc]:\n",
    "    processing.run(\"gdal:warpreproject\", {\n",
    "            'INPUT': dsm_in,\n",
    "            'SOURCE_CRS':QgsCoordinateReferenceSystem(crs_in),\n",
    "            'TARGET_CRS':QgsCoordinateReferenceSystem(crs),\n",
    "            'RESAMPLING':0,\n",
    "            'NODATA':None,\n",
    "            'TARGET_RESOLUTION':1,\n",
    "            'OPTIONS':'',\n",
    "            'DATA_TYPE':0,\n",
    "            'TARGET_EXTENT':None,\n",
    "            'TARGET_EXTENT_CRS':QgsCoordinateReferenceSystem(crs),\n",
    "            'MULTITHREADING':False,\n",
    "            'EXTRA':'',\n",
    "            'OUTPUT': i\n",
    "            }\n",
    "            )\n",
    "            \n",
    "# Buffra byggnader och trädpolygon\n",
    "# Träd \n",
    "buffersize = 1 # Sätt var du tycker är rimligt\n",
    "\n",
    "# tree_buffer = outdir + 'tree_buff.shp'\n",
    "output['treebuff'] = processing.run(\"native:buffer\", {\n",
    "    'INPUT': trees,\n",
    "    'DISTANCE':buffersize,\n",
    "    'SEGMENTS':5,'END_CAP_STYLE':0,'JOIN_STYLE':0,'MITER_LIMIT':2,\n",
    "    'DISSOLVE':True,\n",
    "    'OUTPUT': 'TEMPORARY_OUTPUT'})\n",
    "\n",
    "# Buildings\n",
    "buffersize = 2 # Sätt var du tycker är rimligt\n",
    "\n",
    "#= build_buffer = outdir + 'build_buff.shp'\n",
    "output['buildbuff']  = processing.run(\"native:buffer\", {\n",
    "    'INPUT': building,\n",
    "    'DISTANCE':buffersize,\n",
    "    'SEGMENTS':5,'END_CAP_STYLE':0,'JOIN_STYLE':0,'MITER_LIMIT':2,\n",
    "    'DISSOLVE':True,\n",
    "    'OUTPUT':'TEMPORARY_OUTPUT'})\n",
    "    \n",
    "# Merge buffers\n",
    "#= merge_layer = outdir + 'merged.shp'\n",
    "output['merge_buff']  = processing.run(\"native:mergevectorlayers\", {\n",
    "    'LAYERS':[output['treebuff']['OUTPUT'], output['buildbuff']['OUTPUT']],\n",
    "    'CRS':QgsCoordinateReferenceSystem(crs),\n",
    "    'OUTPUT': 'TEMPORARY_OUTPUT'})\n",
    "\n",
    "output['bbox'] = processing.run(\"native:polygonfromlayerextent\", {\n",
    "    'INPUT': dsm,\n",
    "    'ROUND_TO':0,\n",
    "    'OUTPUT':'TEMPORARY_OUTPUT'})\n",
    "\n",
    "output['difference'] = processing.run(\"native:difference\", {\n",
    "    'INPUT':output['bbox']['OUTPUT'],\n",
    "    'OVERLAY': building,\n",
    "    'OUTPUT':'TEMPORARY_OUTPUT',\n",
    "    'GRID_SIZE':None})\n"
   ]
  },
  {
   "cell_type": "code",
   "execution_count": 4,
   "metadata": {},
   "outputs": [
    {
     "data": {
      "text/plain": [
       "{'output': 'C:\\\\temp\\\\dsms\\\\out\\\\dem_out.tif'}"
      ]
     },
     "execution_count": 4,
     "metadata": {},
     "output_type": "execute_result"
    }
   ],
   "source": [
    "# DEM Sätt nan där det är byggnad eller träd\n",
    "processing.run(\"gdal:rasterize_over_fixed_value\", {\n",
    "    'INPUT':output['merge_buff']['OUTPUT'],\n",
    "    'INPUT_RASTER':dem,\n",
    "    'BURN':np.nan,'ADD':False,'EXTRA':''})\n",
    "\n",
    "# Interpolera\n",
    "dem_out = outdir + 'dem_out.tif'\n",
    "processing.run(\"grass7:r.fillnulls\", {\n",
    "'input': dem,\n",
    "'method':2,'tension':40,'smooth':0.1,'edge':3,'npmin':500,'segmax':300,\n",
    "'lambda':0.01,\n",
    "'output': dem_out,\n",
    "'GRASS_REGION_PARAMETER':None,'GRASS_REGION_CELLSIZE_PARAMETER':0,'GRASS_RASTER_FORMAT_OPT':'','GRASS_RASTER_FORMAT_META':''})\n"
   ]
  },
  {
   "cell_type": "code",
   "execution_count": 6,
   "metadata": {},
   "outputs": [
    {
     "data": {
      "text/plain": [
       "{'OUTPUT': 'C:/temp/dsms/out/dsm_out.tif'}"
      ]
     },
     "execution_count": 6,
     "metadata": {},
     "output_type": "execute_result"
    }
   ],
   "source": [
    "# DsM Sätt nan där det är träd\n",
    "processing.run(\"gdal:rasterize_over_fixed_value\", {\n",
    "    'INPUT': output['difference']['OUTPUT'],\n",
    "    'INPUT_RASTER':dsm,\n",
    "    'BURN': 0,'ADD':False,\n",
    "    'EXTRA':''})\n",
    "\n",
    "dsm_out = outdir + 'dsm_out.tif'\n",
    "processing.run(\"gdal:rastercalculator\", {\n",
    "    'INPUT_A':dem_out,'BAND_A':1,\n",
    "    'INPUT_B':dsm,'BAND_B':None,\n",
    "    'INPUT_C':None,'BAND_C':None,'INPUT_D':None,'BAND_D':None,'INPUT_E':None,'BAND_E':None,'INPUT_F':None,'BAND_F':None,'FORMULA':'A+B','NO_DATA':None,'PROJWIN':None,'RTYPE':5,'OPTIONS':'','EXTRA':'',\n",
    "    'OUTPUT': dsm_out})\n"
   ]
  },
  {
   "cell_type": "code",
   "execution_count": 24,
   "metadata": {},
   "outputs": [
    {
     "data": {
      "text/plain": [
       "{'OUTPUT': 'C:/temp/dsms/out/cdsm_out.tif'}"
      ]
     },
     "execution_count": 24,
     "metadata": {},
     "output_type": "execute_result"
    }
   ],
   "source": [
    "# # CDSM Sätt nan där det är byggnader\n",
    "processing.run(\"gdal:rasterize_over_fixed_value\", {\n",
    "    'INPUT': output['buildbuff']['OUTPUT'],\n",
    "    'INPUT_RASTER':cdsm,\n",
    "    'BURN':np.nan,'ADD':False,'EXTRA':''})\n",
    "\n",
    "cdsm_norm = outdir + 'cdsm_norm.tif'\n",
    "output['CDSM_norm'] = processing.run(\"gdal:rastercalculator\", {\n",
    "    'INPUT_A': cdsm,'BAND_A':1,\n",
    "    'INPUT_B':dem_out,'BAND_B'\n",
    "    :None,'INPUT_C':None,'BAND_C':None,'INPUT_D':None,'BAND_D':None,'INPUT_E':None,'BAND_E':None,'INPUT_F':None,'BAND_F':None,'FORMULA':'A-B','NO_DATA':None,'PROJWIN':None,'RTYPE':5,'OPTIONS':'','EXTRA':'',\n",
    "    'OUTPUT': cdsm_norm})\n",
    "\n",
    "processing.run(\"gdal:rasterize_over_fixed_value\", {\n",
    "    'INPUT': output['buildbuff']['OUTPUT'],\n",
    "    'INPUT_RASTER': output['CDSM_norm']['OUTPUT'],\n",
    "    'BURN':np.nan,'ADD':False,'EXTRA':''})\n",
    "\n",
    "output['CDSM_filt'] = processing.run(\"gdal:rastercalculator\", {'INPUT_A':output['CDSM_norm']['OUTPUT'],'BAND_A':1,\n",
    "    'INPUT_B':dem_out,'BAND_B':1,'INPUT_C':None,'BAND_C':None,'INPUT_D':None,'BAND_D':None,'INPUT_E':None,'BAND_E':None,'INPUT_F':None,'BAND_F':None,\n",
    "    'FORMULA':'(A > 0.5)* A','NO_DATA':None,'PROJWIN':None,'RTYPE':5,'OPTIONS':'','EXTRA':'','OUTPUT': 'TEMPORARY_OUTPUT'})\n",
    "\n",
    "# Fill nodata med 0\n",
    "cdsm_out = outdir + 'cdsm_out.tif'\n",
    "processing.run(\"native:fillnodata\", {\n",
    "'INPUT': output['CDSM_filt']['OUTPUT'],\n",
    "'BAND':1,\n",
    "'FILL_VALUE':0,\n",
    "'OUTPUT': cdsm_out})\n"
   ]
  },
  {
   "cell_type": "code",
   "execution_count": 9,
   "metadata": {},
   "outputs": [
    {
     "data": {
      "text/plain": [
       "{'OUTPUT': 'C:/temp/dsms/out/lc_bool.tif'}"
      ]
     },
     "execution_count": 9,
     "metadata": {},
     "output_type": "execute_result"
    }
   ],
   "source": [
    "# Landcover \n",
    "lc_bool = outdir + 'lc_bool.tif'\n",
    "processing.run(\"gdal:rastercalculator\", {'INPUT_A':lc,'BAND_A':1,\n",
    "    'INPUT_B':None,'BAND_B':None,'INPUT_C':None,'BAND_C':None,'INPUT_D':None,'BAND_D':None,'INPUT_E':None,'BAND_E':None,'INPUT_F':None,'BAND_F':None,\n",
    "    'FORMULA':'(A * 0) + 1','NO_DATA':None,'PROJWIN':None,'RTYPE':5,'OPTIONS':'','EXTRA':'','OUTPUT': lc_bool})\n"
   ]
  }
 ],
 "metadata": {
  "kernelspec": {
   "display_name": "Python 3",
   "language": "python",
   "name": "python3"
  },
  "language_info": {
   "codemirror_mode": {
    "name": "ipython",
    "version": 3
   },
   "file_extension": ".py",
   "mimetype": "text/x-python",
   "name": "python",
   "nbconvert_exporter": "python",
   "pygments_lexer": "ipython3",
   "version": "3.9.5"
  },
  "orig_nbformat": 4
 },
 "nbformat": 4,
 "nbformat_minor": 2
}
