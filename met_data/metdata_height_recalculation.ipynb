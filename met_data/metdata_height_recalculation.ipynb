{
 "cells": [
  {
   "cell_type": "code",
   "execution_count": 31,
   "metadata": {},
   "outputs": [],
   "source": [
    "import pandas as pd\n",
    "import numpy as np\n",
    "\n",
    "# Set input and output\n",
    "directory = 'C:/Script/SuPy/src/supy/sample_run/Input_wisley_w'\n",
    "out_dir = 'C:/Script/SuPy/src/supy/sample_run/Input_wisley_w'\n",
    "input_data = directory + '/Ws_2012_data_60.txt'\n",
    "output_data = out_dir + '/Ws1_2012_data_60.txt'\n",
    "\n",
    "# probably need to change this according to your data\n",
    "# But this works for UMEP formatted data\n",
    "force = pd.read_csv((input_data), \n",
    "        delim_whitespace=True,\n",
    "        header= 0)\n",
    "\n",
    "# Set heights - Height where observation was done \n",
    "z_obs_tair = 1.25\n",
    "z_obs_rh   = 1.25\n",
    "z_obs_wind = 10\n",
    "\n",
    "# Set desired new z-height\n",
    "z_goal = 9\n",
    "\n",
    "force.loc[force['Wind']<1] =1\n",
    "force_new = force.copy()\n"
   ]
  },
  {
   "cell_type": "markdown",
   "metadata": {},
   "source": [
    "# Tair"
   ]
  },
  {
   "cell_type": "code",
   "execution_count": 32,
   "metadata": {},
   "outputs": [],
   "source": [
    "## Recalculate Tair at diffrent heights using The environmental lapse rate (ELR)\n",
    "#  as temperature lapse rate of 7°C/km\n",
    "\n",
    "#Change in meter (m)\n",
    "tair_change = 7/1000\n",
    "\n",
    "force_new['Td'] = force['Td'] - (z_goal - z_obs_tair) * tair_change\n"
   ]
  },
  {
   "cell_type": "markdown",
   "metadata": {},
   "source": [
    "# Relative Humidity"
   ]
  },
  {
   "cell_type": "code",
   "execution_count": 33,
   "metadata": {},
   "outputs": [],
   "source": [
    "## Recalculate RH at diffrent heights using acccording to\n",
    "# International Standard Atmosphere (ISA) assumptions in Turgut and Usanmaz(2016)\n",
    "#as 4% decrease in RH/km\n",
    "\n",
    "# Change in RH/meter (m)\n",
    "rh_change = .04/1000\n",
    "\n",
    "force_new['RH'] = force['RH']-(force['RH'] * rh_change* (z_goal - z_obs_rh))\n",
    "\n",
    "force_new.loc[force['RH'] > 100] = 100"
   ]
  },
  {
   "cell_type": "markdown",
   "metadata": {},
   "source": [
    "# Wind"
   ]
  },
  {
   "cell_type": "code",
   "execution_count": 34,
   "metadata": {},
   "outputs": [],
   "source": [
    "#Recalculate U at diffrent heights using Power Law\n",
    "\n",
    "# Power Law\n",
    "# v = vr * ((z/zr)^a)\n",
    "\n",
    "# v = new wind speed\n",
    "# z = new alitude\n",
    "# vr = wind speed at zr\n",
    "# zr = Reference altitude   \n",
    "# a = power exponent\n",
    "\n",
    "# Power Law Exponent Oke 2011 table 4.2 \"Farmland, crops\" 0.14–0.18\n",
    "# 0.27 high dense\n",
    "a = 0.16\n",
    "\n",
    "force_new['Wind'] = force['Wind'] * ((z_goal/z_obs_wind)**a)"
   ]
  },
  {
   "cell_type": "markdown",
   "metadata": {},
   "source": [
    "# Write to .txt"
   ]
  },
  {
   "cell_type": "code",
   "execution_count": 20,
   "metadata": {},
   "outputs": [],
   "source": [
    "force.to_csv(output_data, sep =\"\\t\",index=True)"
   ]
  }
 ],
 "metadata": {
  "hide_input": false,
  "kernelspec": {
   "display_name": "Python 3",
   "language": "python",
   "name": "python3"
  },
  "language_info": {
   "codemirror_mode": {
    "name": "ipython",
    "version": 3
   },
   "file_extension": ".py",
   "mimetype": "text/x-python",
   "name": "python",
   "nbconvert_exporter": "python",
   "pygments_lexer": "ipython3",
   "version": "3.9.13"
  },
  "toc": {
   "base_numbering": 1,
   "nav_menu": {},
   "number_sections": true,
   "sideBar": true,
   "skip_h1_title": false,
   "title_cell": "Table of Contents",
   "title_sidebar": "Contents",
   "toc_cell": false,
   "toc_position": {},
   "toc_section_display": true,
   "toc_window_display": false
  },
  "varInspector": {
   "cols": {
    "lenName": 16,
    "lenType": 16,
    "lenVar": 40
   },
   "kernels_config": {
    "python": {
     "delete_cmd_postfix": "",
     "delete_cmd_prefix": "del ",
     "library": "var_list.py",
     "varRefreshCmd": "print(var_dic_list())"
    },
    "r": {
     "delete_cmd_postfix": ") ",
     "delete_cmd_prefix": "rm(",
     "library": "var_list.r",
     "varRefreshCmd": "cat(var_dic_list()) "
    }
   },
   "types_to_exclude": [
    "module",
    "function",
    "builtin_function_or_method",
    "instance",
    "_Feature"
   ],
   "window_display": false
  }
 },
 "nbformat": 4,
 "nbformat_minor": 2
}
